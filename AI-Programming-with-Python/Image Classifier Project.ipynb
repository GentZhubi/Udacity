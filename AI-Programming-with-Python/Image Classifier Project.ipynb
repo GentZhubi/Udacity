{
 "cells": [
  {
   "cell_type": "markdown",
   "metadata": {},
   "source": [
    "## Prepare the workspace"
   ]
  },
  {
   "cell_type": "code",
   "execution_count": 1,
   "metadata": {},
   "outputs": [],
   "source": [
    "# Before you proceed, update the PATH\n",
    "import os\n",
    "os.environ['PATH'] = f\"{os.environ['PATH']}:/root/.local/bin\"\n",
    "os.environ['PATH'] = f\"{os.environ['PATH']}:/opt/conda/lib/python3.6/site-packages\"\n",
    "# Restart the Kernel at this point. "
   ]
  },
  {
   "cell_type": "code",
   "execution_count": 1,
   "metadata": {},
   "outputs": [
    {
     "name": "stdout",
     "output_type": "stream",
     "text": [
      "Defaulting to user installation because normal site-packages is not writeable\n",
      "\u001b[31mERROR: Could not find a version that satisfies the requirement torch==1.0.0 (from versions: 1.11.0, 1.12.0, 1.12.1, 1.13.0, 1.13.1, 2.0.0, 2.0.1, 2.1.0)\u001b[0m\u001b[31m\n",
      "\u001b[0m\u001b[31mERROR: No matching distribution found for torch==1.0.0\u001b[0m\u001b[31m\n",
      "\u001b[0m"
     ]
    }
   ],
   "source": [
    "# Do not execute the commands below unless you have restart the Kernel after updating the PATH. \n",
    "!python -m pip install torch==1.0.0"
   ]
  },
  {
   "cell_type": "code",
   "execution_count": 2,
   "metadata": {},
   "outputs": [
    {
     "name": "stdout",
     "output_type": "stream",
     "text": [
      "2.0.1\n",
      "True\n"
     ]
    }
   ],
   "source": [
    "# Check torch version and CUDA status if GPU is enabled.\n",
    "import torch\n",
    "print(torch.__version__)\n",
    "print(torch.cuda.is_available()) # Should return True when GPU is enabled. "
   ]
  },
  {
   "cell_type": "markdown",
   "metadata": {},
   "source": [
    "# Developing an AI application\n",
    "\n",
    "Going forward, AI algorithms will be incorporated into more and more everyday applications. For example, you might want to include an image classifier in a smart phone app. To do this, you'd use a deep learning model trained on hundreds of thousands of images as part of the overall application architecture. A large part of software development in the future will be using these types of models as common parts of applications. \n",
    "\n",
    "In this project, you'll train an image classifier to recognize different species of flowers. You can imagine using something like this in a phone app that tells you the name of the flower your camera is looking at. In practice you'd train this classifier, then export it for use in your application. We'll be using [this dataset](http://www.robots.ox.ac.uk/~vgg/data/flowers/102/index.html) of 102 flower categories, you can see a few examples below. \n",
    "\n",
    "<img src='assets/Flowers.png' width=500px>\n",
    "\n",
    "The project is broken down into multiple steps:\n",
    "\n",
    "* Load and preprocess the image dataset\n",
    "* Train the image classifier on your dataset\n",
    "* Use the trained classifier to predict image content\n",
    "\n",
    "We'll lead you through each part which you'll implement in Python.\n",
    "\n",
    "When you've completed this project, you'll have an application that can be trained on any set of labeled images. Here your network will be learning about flowers and end up as a command line application. But, what you do with your new skills depends on your imagination and effort in building a dataset. For example, imagine an app where you take a picture of a car, it tells you what the make and model is, then looks up information about it. Go build your own dataset and make something new.\n",
    "\n",
    "First up is importing the packages you'll need. It's good practice to keep all the imports at the beginning of your code. As you work through this notebook and find you need to import a package, make sure to add the import up here."
   ]
  },
  {
   "cell_type": "code",
   "execution_count": 41,
   "metadata": {},
   "outputs": [],
   "source": [
    "# Imports here\n",
    "import numpy as np\n",
    "import torch\n",
    "import torchvision\n",
    "from torchvision import datasets, transforms, models\n",
    "from torch import nn, optim\n",
    "from PIL import Image\n",
    "import matplotlib.pyplot as plt"
   ]
  },
  {
   "cell_type": "markdown",
   "metadata": {},
   "source": [
    "## Load the data\n",
    "\n",
    "Here you'll use `torchvision` to load the data ([documentation](http://pytorch.org/docs/0.3.0/torchvision/index.html)). The data should be included alongside this notebook, otherwise you can [download it here](https://s3.amazonaws.com/content.udacity-data.com/nd089/flower_data.tar.gz). "
   ]
  },
  {
   "cell_type": "markdown",
   "metadata": {},
   "source": [
    "If you do not find the `flowers/` dataset in the current directory, **/workspace/home/aipnd-project/**, you can download it using the following commands. \n",
    "\n",
    "```bash\n",
    "!wget 'https://s3.amazonaws.com/content.udacity-data.com/nd089/flower_data.tar.gz'\n",
    "!unlink flowers\n",
    "!mkdir flowers && tar -xzf flower_data.tar.gz -C flowers\n",
    "```\n"
   ]
  },
  {
   "cell_type": "markdown",
   "metadata": {},
   "source": [
    "## Data Description\n",
    "The dataset is split into three parts, training, validation, and testing. For the training, you'll want to apply transformations such as random scaling, cropping, and flipping. This will help the network generalize leading to better performance. You'll also need to make sure the input data is resized to 224x224 pixels as required by the pre-trained networks.\n",
    "\n",
    "The validation and testing sets are used to measure the model's performance on data it hasn't seen yet. For this you don't want any scaling or rotation transformations, but you'll need to resize then crop the images to the appropriate size.\n",
    "\n",
    "The pre-trained networks you'll use were trained on the ImageNet dataset where each color channel was normalized separately. For all three sets you'll need to normalize the means and standard deviations of the images to what the network expects. For the means, it's `[0.485, 0.456, 0.406]` and for the standard deviations `[0.229, 0.224, 0.225]`, calculated from the ImageNet images.  These values will shift each color channel to be centered at 0 and range from -1 to 1.\n",
    " "
   ]
  },
  {
   "cell_type": "code",
   "execution_count": 4,
   "metadata": {},
   "outputs": [],
   "source": [
    "data_dir = 'flowers'\n",
    "train_dir = data_dir + '/train'\n",
    "valid_dir = data_dir + '/valid'\n",
    "test_dir = data_dir + '/test'"
   ]
  },
  {
   "cell_type": "code",
   "execution_count": 5,
   "metadata": {},
   "outputs": [],
   "source": [
    "# Define the transforms for the training, validation, and testing sets\n",
    "data_transforms = {\n",
    "    'train': transforms.Compose([\n",
    "                    transforms.RandomRotation(30),\n",
    "                    transforms.RandomResizedCrop(224),\n",
    "                    transforms.RandomHorizontalFlip(),\n",
    "                    transforms.ToTensor(),\n",
    "                    transforms.Normalize([0.485, 0.456, 0.406], [0.229, 0.224, 0.225])\n",
    "    ]),\n",
    "    'valid': transforms.Compose([\n",
    "                    transforms.Resize(256),\n",
    "                    transforms.CenterCrop(224),\n",
    "                    transforms.ToTensor(),\n",
    "                    transforms.Normalize([0.485, 0.456, 0.406], [0.229, 0.224, 0.225])\n",
    "    ]),\n",
    "    'test': transforms.Compose([\n",
    "                    transforms.Resize(256),\n",
    "                    transforms.CenterCrop(224),\n",
    "                    transforms.ToTensor(),\n",
    "                    transforms.Normalize([0.485, 0.456, 0.406], [0.229, 0.224, 0.225])\n",
    "    ]),\n",
    "}\n",
    "\n",
    "# Load the datasets with ImageFolder\n",
    "image_datasets = {\n",
    "    'train': datasets.ImageFolder(train_dir, transform=data_transforms['train']),\n",
    "    'valid': datasets.ImageFolder(valid_dir, transform=data_transforms['valid']),\n",
    "    'test': datasets.ImageFolder(test_dir, transform=data_transforms['test']),\n",
    "}\n",
    "\n",
    "# Using the image datasets and the transforms, define the dataloaders\n",
    "dataloaders = {\n",
    "    'train': torch.utils.data.DataLoader(image_datasets['train'], batch_size=64, shuffle=True),\n",
    "    'valid': torch.utils.data.DataLoader(image_datasets['valid'], batch_size=64),\n",
    "    'test': torch.utils.data.DataLoader(image_datasets['test'], batch_size=64),\n",
    "}"
   ]
  },
  {
   "cell_type": "markdown",
   "metadata": {},
   "source": [
    "### Label mapping\n",
    "\n",
    "You'll also need to load in a mapping from category label to category name. You can find this in the file `cat_to_name.json`. It's a JSON object which you can read in with the [`json` module](https://docs.python.org/2/library/json.html). This will give you a dictionary mapping the integer encoded categories to the actual names of the flowers."
   ]
  },
  {
   "cell_type": "code",
   "execution_count": 6,
   "metadata": {},
   "outputs": [],
   "source": [
    "import json\n",
    "\n",
    "with open('cat_to_name.json', 'r') as f:\n",
    "    cat_to_name = json.load(f)"
   ]
  },
  {
   "cell_type": "markdown",
   "metadata": {},
   "source": [
    "# Building and training the classifier\n",
    "\n",
    "Now that the data is ready, it's time to build and train the classifier. As usual, you should use one of the pretrained models from `torchvision.models` to get the image features. Build and train a new feed-forward classifier using those features.\n",
    "\n",
    "We're going to leave this part up to you. Refer to [the rubric](https://review.udacity.com/#!/rubrics/1663/view) for guidance on successfully completing this section. Things you'll need to do:\n",
    "\n",
    "* Load a [pre-trained network](http://pytorch.org/docs/master/torchvision/models.html) (If you need a starting point, the VGG networks work great and are straightforward to use)\n",
    "* Define a new, untrained feed-forward network as a classifier, using ReLU activations and dropout\n",
    "* Train the classifier layers using backpropagation using the pre-trained network to get the features\n",
    "* Track the loss and accuracy on the validation set to determine the best hyperparameters\n",
    "\n",
    "We've left a cell open for you below, but use as many as you need. Our advice is to break the problem up into smaller parts you can run separately. Check that each part is doing what you expect, then move on to the next. You'll likely find that as you work through each part, you'll need to go back and modify your previous code. This is totally normal!\n",
    "\n",
    "When training make sure you're updating only the weights of the feed-forward network. You should be able to get the validation accuracy above 70% if you build everything right. Make sure to try different hyperparameters (learning rate, units in the classifier, epochs, etc) to find the best model. Save those hyperparameters to use as default values in the next part of the project.\n",
    "\n",
    "One last important tip if you're using the workspace to run your code: To avoid having your workspace disconnect during the long-running tasks in this notebook, please read in the earlier page in this lesson called Intro to\n",
    "GPU Workspaces about Keeping Your Session Active. You'll want to include code from the workspace_utils.py module.\n",
    "\n",
    "## Note for Workspace users: \n",
    "If your network is over 1 GB when saved as a checkpoint, there might be issues with saving backups in your workspace. Typically this happens with wide dense layers after the convolutional layers. If your saved checkpoint is larger than 1 GB (you can open a terminal and check with `ls -lh`), you should reduce the size of your hidden layers and train again."
   ]
  },
  {
   "cell_type": "code",
   "execution_count": 8,
   "metadata": {},
   "outputs": [
    {
     "name": "stdout",
     "output_type": "stream",
     "text": [
      "Epoch 1/5.. Train loss: 9.973.. Validation loss: 4.388.. Validation accuracy: 0.115\n",
      "Epoch 1/5.. Train loss: 4.185.. Validation loss: 3.500.. Validation accuracy: 0.207\n",
      "Epoch 1/5.. Train loss: 3.760.. Validation loss: 2.854.. Validation accuracy: 0.345\n",
      "Epoch 1/5.. Train loss: 3.254.. Validation loss: 2.427.. Validation accuracy: 0.433\n",
      "Epoch 1/5.. Train loss: 2.950.. Validation loss: 2.001.. Validation accuracy: 0.501\n",
      "Epoch 1/5.. Train loss: 2.613.. Validation loss: 1.813.. Validation accuracy: 0.508\n",
      "Epoch 1/5.. Train loss: 2.501.. Validation loss: 1.561.. Validation accuracy: 0.577\n",
      "Epoch 1/5.. Train loss: 2.380.. Validation loss: 1.468.. Validation accuracy: 0.584\n",
      "Epoch 1/5.. Train loss: 2.332.. Validation loss: 1.388.. Validation accuracy: 0.603\n",
      "Epoch 1/5.. Train loss: 2.198.. Validation loss: 1.274.. Validation accuracy: 0.658\n",
      "Epoch 2/5.. Train loss: 2.041.. Validation loss: 1.235.. Validation accuracy: 0.663\n",
      "Epoch 2/5.. Train loss: 1.933.. Validation loss: 1.174.. Validation accuracy: 0.656\n",
      "Epoch 2/5.. Train loss: 1.999.. Validation loss: 1.296.. Validation accuracy: 0.640\n",
      "Epoch 2/5.. Train loss: 2.001.. Validation loss: 1.227.. Validation accuracy: 0.666\n",
      "Epoch 2/5.. Train loss: 1.838.. Validation loss: 1.110.. Validation accuracy: 0.715\n",
      "Epoch 2/5.. Train loss: 1.956.. Validation loss: 1.075.. Validation accuracy: 0.726\n",
      "Epoch 2/5.. Train loss: 1.990.. Validation loss: 1.156.. Validation accuracy: 0.680\n",
      "Epoch 2/5.. Train loss: 2.034.. Validation loss: 1.209.. Validation accuracy: 0.663\n",
      "Epoch 2/5.. Train loss: 1.980.. Validation loss: 1.056.. Validation accuracy: 0.708\n",
      "Epoch 2/5.. Train loss: 1.765.. Validation loss: 1.090.. Validation accuracy: 0.691\n",
      "Epoch 3/5.. Train loss: 1.851.. Validation loss: 1.094.. Validation accuracy: 0.678\n",
      "Epoch 3/5.. Train loss: 1.792.. Validation loss: 1.031.. Validation accuracy: 0.704\n",
      "Epoch 3/5.. Train loss: 1.816.. Validation loss: 1.006.. Validation accuracy: 0.725\n",
      "Epoch 3/5.. Train loss: 1.819.. Validation loss: 0.988.. Validation accuracy: 0.728\n",
      "Epoch 3/5.. Train loss: 1.763.. Validation loss: 1.055.. Validation accuracy: 0.729\n",
      "Epoch 3/5.. Train loss: 1.793.. Validation loss: 0.978.. Validation accuracy: 0.729\n",
      "Epoch 3/5.. Train loss: 1.841.. Validation loss: 1.044.. Validation accuracy: 0.714\n",
      "Epoch 3/5.. Train loss: 1.672.. Validation loss: 1.067.. Validation accuracy: 0.702\n",
      "Epoch 3/5.. Train loss: 1.718.. Validation loss: 0.968.. Validation accuracy: 0.739\n",
      "Epoch 3/5.. Train loss: 1.726.. Validation loss: 0.970.. Validation accuracy: 0.725\n",
      "Epoch 4/5.. Train loss: 1.815.. Validation loss: 0.980.. Validation accuracy: 0.728\n",
      "Epoch 4/5.. Train loss: 1.678.. Validation loss: 1.046.. Validation accuracy: 0.727\n",
      "Epoch 4/5.. Train loss: 1.720.. Validation loss: 0.955.. Validation accuracy: 0.722\n",
      "Epoch 4/5.. Train loss: 1.774.. Validation loss: 0.944.. Validation accuracy: 0.741\n",
      "Epoch 4/5.. Train loss: 1.725.. Validation loss: 0.988.. Validation accuracy: 0.726\n",
      "Epoch 4/5.. Train loss: 1.579.. Validation loss: 0.963.. Validation accuracy: 0.745\n",
      "Epoch 4/5.. Train loss: 1.676.. Validation loss: 0.895.. Validation accuracy: 0.766\n",
      "Epoch 4/5.. Train loss: 1.725.. Validation loss: 0.930.. Validation accuracy: 0.751\n",
      "Epoch 4/5.. Train loss: 1.698.. Validation loss: 0.910.. Validation accuracy: 0.744\n",
      "Epoch 4/5.. Train loss: 1.690.. Validation loss: 0.863.. Validation accuracy: 0.770\n",
      "Epoch 4/5.. Train loss: 1.716.. Validation loss: 0.939.. Validation accuracy: 0.749\n",
      "Epoch 5/5.. Train loss: 1.638.. Validation loss: 1.008.. Validation accuracy: 0.733\n",
      "Epoch 5/5.. Train loss: 1.645.. Validation loss: 0.877.. Validation accuracy: 0.781\n",
      "Epoch 5/5.. Train loss: 1.664.. Validation loss: 0.920.. Validation accuracy: 0.747\n",
      "Epoch 5/5.. Train loss: 1.611.. Validation loss: 0.906.. Validation accuracy: 0.753\n",
      "Epoch 5/5.. Train loss: 1.668.. Validation loss: 0.884.. Validation accuracy: 0.772\n",
      "Epoch 5/5.. Train loss: 1.681.. Validation loss: 0.876.. Validation accuracy: 0.769\n",
      "Epoch 5/5.. Train loss: 1.464.. Validation loss: 0.877.. Validation accuracy: 0.776\n",
      "Epoch 5/5.. Train loss: 1.705.. Validation loss: 0.956.. Validation accuracy: 0.746\n",
      "Epoch 5/5.. Train loss: 1.700.. Validation loss: 0.930.. Validation accuracy: 0.767\n",
      "Epoch 5/5.. Train loss: 1.671.. Validation loss: 0.894.. Validation accuracy: 0.756\n"
     ]
    }
   ],
   "source": [
    "# Load a pre-trained VGG16 network\n",
    "model = models.vgg16(pretrained=True)\n",
    "\n",
    "# Freeze the parameters of the model to avoid backprop through them\n",
    "for param in model.parameters():\n",
    "    param.requires_grad = False\n",
    "\n",
    "# Define a new, untrained feed-forward network as a classifier using ReLU activations and dropout\n",
    "classifier = nn.Sequential(nn.Linear(25088, 512),\n",
    "                           nn.ReLU(),\n",
    "                           nn.Dropout(0.2),\n",
    "                           nn.Linear(512, 102),  # 102 is an example for the number of flower categories\n",
    "                           nn.LogSoftmax(dim=1))\n",
    "\n",
    "model.classifier = classifier\n",
    "\n",
    "# Define the criterion and optimizer\n",
    "criterion = nn.NLLLoss()\n",
    "optimizer = optim.Adam(model.classifier.parameters(), lr=0.003)\n",
    "\n",
    "# Move the model to the available device\n",
    "device = torch.device(\"cuda\" if torch.cuda.is_available() else \"cpu\")\n",
    "model.to(device);\n",
    "\n",
    "epochs = 5\n",
    "steps = 0\n",
    "running_loss = 0\n",
    "print_every = 10\n",
    "\n",
    "for epoch in range(epochs):\n",
    "    for inputs, labels in dataloaders['train']:\n",
    "        steps += 1\n",
    "        inputs, labels = inputs.to(device), labels.to(device)\n",
    "        \n",
    "        optimizer.zero_grad()\n",
    "        \n",
    "        logps = model.forward(inputs)\n",
    "        loss = criterion(logps, labels)\n",
    "        loss.backward()\n",
    "        optimizer.step()\n",
    "\n",
    "        running_loss += loss.item()\n",
    "        \n",
    "        if steps % print_every == 0:\n",
    "            validation_loss = 0\n",
    "            accuracy = 0\n",
    "            model.eval()\n",
    "            \n",
    "            with torch.no_grad():\n",
    "                for inputs, labels in dataloaders['valid']:\n",
    "                    inputs, labels = inputs.to(device), labels.to(device)\n",
    "                    logps = model.forward(inputs)\n",
    "                    batch_loss = criterion(logps, labels)\n",
    "                    \n",
    "                    validation_loss += batch_loss.item()\n",
    "                    \n",
    "                    ps = torch.exp(logps)\n",
    "                    top_p, top_class = ps.topk(1, dim=1)\n",
    "                    equals = top_class == labels.view(*top_class.shape)\n",
    "                    accuracy += torch.mean(equals.type(torch.FloatTensor)).item()\n",
    "                    \n",
    "            print(f\"Epoch {epoch+1}/{epochs}.. \"\n",
    "                  f\"Train loss: {running_loss/print_every:.3f}.. \"\n",
    "                  f\"Validation loss: {validation_loss/len(dataloaders['valid']):.3f}.. \"\n",
    "                  f\"Validation accuracy: {accuracy/len(dataloaders['valid']):.3f}\")\n",
    "            running_loss = 0\n",
    "            model.train()\n"
   ]
  },
  {
   "cell_type": "markdown",
   "metadata": {},
   "source": [
    "## Testing your network\n",
    "\n",
    "It's good practice to test your trained network on test data, images the network has never seen either in training or validation. This will give you a good estimate for the model's performance on completely new images. Run the test images through the network and measure the accuracy, the same way you did validation. You should be able to reach around 70% accuracy on the test set if the model has been trained well."
   ]
  },
  {
   "cell_type": "code",
   "execution_count": 9,
   "metadata": {},
   "outputs": [
    {
     "name": "stdout",
     "output_type": "stream",
     "text": [
      "Accuracy of the network on the test images: 74.85%\n"
     ]
    }
   ],
   "source": [
    "# Validation on the test set\n",
    "\n",
    "correct = 0\n",
    "total = 0\n",
    "model.eval()  # Set the model to evaluation mode\n",
    "\n",
    "with torch.no_grad():\n",
    "    for inputs, labels in dataloaders['test']:\n",
    "        inputs, labels = inputs.to(device), labels.to(device)\n",
    "        outputs = model(inputs)\n",
    "        _, predicted = torch.max(outputs.data, 1)\n",
    "        total += labels.size(0)\n",
    "        correct += (predicted == labels).sum().item()\n",
    "\n",
    "test_accuracy = 100 * correct / total\n",
    "print(f'Accuracy of the network on the test images: {test_accuracy:.2f}%')\n"
   ]
  },
  {
   "cell_type": "markdown",
   "metadata": {},
   "source": [
    "## Save the checkpoint\n",
    "\n",
    "Now that your network is trained, save the model so you can load it later for making predictions. You probably want to save other things such as the mapping of classes to indices which you get from one of the image datasets: `image_datasets['train'].class_to_idx`. You can attach this to the model as an attribute which makes inference easier later on.\n",
    "\n",
    "```model.class_to_idx = image_datasets['train'].class_to_idx```\n",
    "\n",
    "Remember that you'll want to completely rebuild the model later so you can use it for inference. Make sure to include any information you need in the checkpoint. If you want to load the model and keep training, you'll want to save the number of epochs as well as the optimizer state, `optimizer.state_dict`. You'll likely want to use this trained model in the next part of the project, so best to save it now."
   ]
  },
  {
   "cell_type": "code",
   "execution_count": 10,
   "metadata": {},
   "outputs": [],
   "source": [
    "# Assign the class_to_idx to the model\n",
    "model.class_to_idx = image_datasets['train'].class_to_idx\n",
    "\n",
    "# Define a checkpoint with the necessary information\n",
    "checkpoint = {\n",
    "    'input_size': 25088,\n",
    "    'output_size': 102, \n",
    "    'model': model,\n",
    "    'state_dict': model.state_dict(),\n",
    "    'classifier': model.classifier,\n",
    "    'class_to_idx': model.class_to_idx,\n",
    "    'optimizer_state': optimizer.state_dict(),\n",
    "    'epochs': epochs\n",
    "}\n",
    "\n",
    "# Save the checkpoint\n",
    "torch.save(checkpoint, 'checkpoint.pth')\n"
   ]
  },
  {
   "cell_type": "markdown",
   "metadata": {},
   "source": [
    "## Loading the checkpoint\n",
    "\n",
    "At this point it's good to write a function that can load a checkpoint and rebuild the model. That way you can come back to this project and keep working on it without having to retrain the network."
   ]
  },
  {
   "cell_type": "code",
   "execution_count": 11,
   "metadata": {},
   "outputs": [],
   "source": [
    "# Function that loads a checkpoint and rebuilds the mode\n",
    "def load_checkpoint(filepath):\n",
    "    checkpoint = torch.load(filepath)\n",
    "    \n",
    "    # Check if using VGG16, otherwise modify accordingly for other architectures\n",
    "    model = models.vgg16(pretrained=True)\n",
    "    \n",
    "    # Freeze the parameters of the model to avoid backprop through them\n",
    "    for param in model.parameters():\n",
    "        param.requires_grad = False\n",
    "\n",
    "    # Load everything else from the checkpoint\n",
    "    model.classifier = checkpoint['classifier']\n",
    "    model.load_state_dict(checkpoint['state_dict'])\n",
    "    model.class_to_idx = checkpoint['class_to_idx']\n",
    "    \n",
    "    optimizer_state = checkpoint['optimizer_state']\n",
    "    epochs = checkpoint['epochs']\n",
    "    \n",
    "    return model\n",
    "\n",
    "# Load the model from the checkpoint\n",
    "model = load_checkpoint('checkpoint.pth')\n"
   ]
  },
  {
   "cell_type": "markdown",
   "metadata": {},
   "source": [
    "# Inference for classification\n",
    "\n",
    "Now you'll write a function to use a trained network for inference. That is, you'll pass an image into the network and predict the class of the flower in the image. Write a function called `predict` that takes an image and a model, then returns the top $K$ most likely classes along with the probabilities. It should look like \n",
    "\n",
    "```python\n",
    "probs, classes = predict(image_path, model)\n",
    "print(probs)\n",
    "print(classes)\n",
    "> [ 0.01558163  0.01541934  0.01452626  0.01443549  0.01407339]\n",
    "> ['70', '3', '45', '62', '55']\n",
    "```\n",
    "\n",
    "First you'll need to handle processing the input image such that it can be used in your network. \n",
    "\n",
    "## Image Preprocessing\n",
    "\n",
    "You'll want to use `PIL` to load the image ([documentation](https://pillow.readthedocs.io/en/latest/reference/Image.html)). It's best to write a function that preprocesses the image so it can be used as input for the model. This function should process the images in the same manner used for training. \n",
    "\n",
    "First, resize the images where the shortest side is 256 pixels, keeping the aspect ratio. This can be done with the [`thumbnail`](http://pillow.readthedocs.io/en/3.1.x/reference/Image.html#PIL.Image.Image.thumbnail) or [`resize`](http://pillow.readthedocs.io/en/3.1.x/reference/Image.html#PIL.Image.Image.thumbnail) methods. Then you'll need to crop out the center 224x224 portion of the image.\n",
    "\n",
    "Color channels of images are typically encoded as integers 0-255, but the model expected floats 0-1. You'll need to convert the values. It's easiest with a Numpy array, which you can get from a PIL image like so `np_image = np.array(pil_image)`.\n",
    "\n",
    "As before, the network expects the images to be normalized in a specific way. For the means, it's `[0.485, 0.456, 0.406]` and for the standard deviations `[0.229, 0.224, 0.225]`. You'll want to subtract the means from each color channel, then divide by the standard deviation. \n",
    "\n",
    "And finally, PyTorch expects the color channel to be the first dimension but it's the third dimension in the PIL image and Numpy array. You can reorder dimensions using [`ndarray.transpose`](https://docs.scipy.org/doc/numpy-1.13.0/reference/generated/numpy.ndarray.transpose.html). The color channel needs to be first and retain the order of the other two dimensions."
   ]
  },
  {
   "cell_type": "code",
   "execution_count": 12,
   "metadata": {},
   "outputs": [],
   "source": [
    "def process_image(image_path):\n",
    "    ''' Scales, crops, and normalizes a PIL image for a PyTorch model,\n",
    "        returns an Numpy array\n",
    "    '''\n",
    "    # Open the image using PIL\n",
    "    img = Image.open(image_path)\n",
    "    \n",
    "    # Resize the image with the shortest side as 256 while maintaining aspect ratio\n",
    "    width, height = img.size\n",
    "    aspect_ratio = width / height\n",
    "    if width < height:\n",
    "        img = img.resize((256, int(256 / aspect_ratio)))\n",
    "    else:\n",
    "        img = img.resize((int(256 * aspect_ratio), 256))\n",
    "    \n",
    "    # Crop out the center 224x224 portion of the image\n",
    "    left_margin = (img.width - 224) / 2\n",
    "    top_margin = (img.height - 224) / 2\n",
    "    img = img.crop((left_margin, top_margin, left_margin + 224, top_margin + 224))\n",
    "    \n",
    "    # Convert image to numpy array and normalize\n",
    "    np_img = np.array(img) / 255\n",
    "    mean = np.array([0.485, 0.456, 0.406])\n",
    "    std = np.array([0.229, 0.224, 0.225])\n",
    "    np_img = (np_img - mean) / std\n",
    "    \n",
    "    # Transpose the numpy image to make the color channel appear first\n",
    "    np_img = np_img.transpose((2, 0, 1))\n",
    "    \n",
    "    return np_img\n"
   ]
  },
  {
   "cell_type": "markdown",
   "metadata": {},
   "source": [
    "To check your work, the function below converts a PyTorch tensor and displays it in the notebook. If your `process_image` function works, running the output through this function should return the original image (except for the cropped out portions)."
   ]
  },
  {
   "cell_type": "code",
   "execution_count": 13,
   "metadata": {},
   "outputs": [],
   "source": [
    "def imshow(image, ax=None, title=None):\n",
    "    \"\"\"Imshow for Tensor.\"\"\"\n",
    "    if ax is None:\n",
    "        fig, ax = plt.subplots()\n",
    "    \n",
    "    # PyTorch tensors assume the color channel is the first dimension\n",
    "    # but matplotlib assumes is the third dimension\n",
    "    image = image.numpy().transpose((1, 2, 0))\n",
    "    \n",
    "    # Undo preprocessing\n",
    "    mean = np.array([0.485, 0.456, 0.406])\n",
    "    std = np.array([0.229, 0.224, 0.225])\n",
    "    image = std * image + mean\n",
    "    \n",
    "    # Image needs to be clipped between 0 and 1 or it looks like noise when displayed\n",
    "    image = np.clip(image, 0, 1)\n",
    "    \n",
    "    ax.imshow(image)\n",
    "    \n",
    "    return ax"
   ]
  },
  {
   "cell_type": "markdown",
   "metadata": {},
   "source": [
    "## Class Prediction\n",
    "\n",
    "Once you can get images in the correct format, it's time to write a function for making predictions with your model. A common practice is to predict the top 5 or so (usually called top-$K$) most probable classes. You'll want to calculate the class probabilities then find the $K$ largest values.\n",
    "\n",
    "To get the top $K$ largest values in a tensor use [`x.topk(k)`](http://pytorch.org/docs/master/torch.html#torch.topk). This method returns both the highest `k` probabilities and the indices of those probabilities corresponding to the classes. You need to convert from these indices to the actual class labels using `class_to_idx` which hopefully you added to the model or from an `ImageFolder` you used to load the data ([see here](#Save-the-checkpoint)). Make sure to invert the dictionary so you get a mapping from index to class as well.\n",
    "\n",
    "Again, this method should take a path to an image and a model checkpoint, then return the probabilities and classes.\n",
    "\n",
    "```python\n",
    "probs, classes = predict(image_path, model)\n",
    "print(probs)\n",
    "print(classes)\n",
    "> [ 0.01558163  0.01541934  0.01452626  0.01443549  0.01407339]\n",
    "> ['70', '3', '45', '62', '55']\n",
    "```"
   ]
  },
  {
   "cell_type": "code",
   "execution_count": 14,
   "metadata": {},
   "outputs": [],
   "source": [
    "def predict(image_path, model, topk=5):\n",
    "    ''' Predict the class (or classes) of an image using a trained deep learning model.\n",
    "    '''\n",
    "    \n",
    "    # Ensure model is in evaluation mode\n",
    "    model.eval()\n",
    "    \n",
    "    # Move model to appropriate device\n",
    "    device = torch.device(\"cuda\" if torch.cuda.is_available() else \"cpu\")\n",
    "    model.to(device)\n",
    "    \n",
    "    # Process the image\n",
    "    np_img = process_image(image_path)\n",
    "    \n",
    "    # Convert to tensor\n",
    "    img_tensor = torch.from_numpy(np_img).float().to(device)\n",
    "    \n",
    "    # Add batch dimension\n",
    "    img_tensor = img_tensor.unsqueeze(0)\n",
    "    \n",
    "    # Make prediction\n",
    "    with torch.no_grad():\n",
    "        output = model(img_tensor)\n",
    "    \n",
    "    # Convert to probabilities\n",
    "    probs = torch.exp(output)\n",
    "    \n",
    "    # Get top K probabilities and indices\n",
    "    top_probs, top_indices = probs.topk(topk, dim=1)\n",
    "    \n",
    "    # Convert to lists\n",
    "    top_probs = top_probs.cpu().numpy().tolist()[0]\n",
    "    top_indices = top_indices.cpu().numpy().tolist()[0]\n",
    "    \n",
    "    # Convert indices to actual class labels\n",
    "    idx_to_class = {idx: cls for cls, idx in model.class_to_idx.items()}\n",
    "    top_classes = [idx_to_class[idx] for idx in top_indices]\n",
    "    \n",
    "    return top_probs, top_classes\n"
   ]
  },
  {
   "cell_type": "markdown",
   "metadata": {},
   "source": [
    "## Sanity Checking\n",
    "\n",
    "Now that you can use a trained model for predictions, check to make sure it makes sense. Even if the testing accuracy is high, it's always good to check that there aren't obvious bugs. Use `matplotlib` to plot the probabilities for the top 5 classes as a bar graph, along with the input image. It should look like this:\n",
    "\n",
    "<img src='assets/inference_example.png' width=300px>\n",
    "\n",
    "You can convert from the class integer encoding to actual flower names with the `cat_to_name.json` file (should have been loaded earlier in the notebook). To show a PyTorch tensor as an image, use the `imshow` function defined above."
   ]
  },
  {
   "cell_type": "code",
   "execution_count": 40,
   "metadata": {
    "scrolled": true
   },
   "outputs": [
    {
     "name": "stderr",
     "output_type": "stream",
     "text": [
      "Clipping input data to the valid range for imshow with RGB data ([0..1] for floats or [0..255] for integers).\n"
     ]
    },
    {
     "data": {
      "image/png": "[encoded data removed]",
      "text/plain": [
       "<Figure size 600x600 with 2 Axes>"
      ]
     },
     "metadata": {},
     "output_type": "display_data"
    }
   ],
   "source": [
    "def display_prediction(image_path, model):\n",
    "    probs, classes = predict(image_path, model)\n",
    "    image = process_image(image_path)\n",
    "    max_index = np.argmax(probs)\n",
    "    max_probability = probs[max_index]\n",
    "    label = classes[max_index]\n",
    "\n",
    "    fig = plt.figure(figsize=(6,6))\n",
    "    ax1 = plt.subplot2grid((15,9), (0,0), colspan=9, rowspan=9)\n",
    "    ax2 = plt.subplot2grid((15,9), (9,2), colspan=5, rowspan=5)\n",
    "    \n",
    "    ax1.axis('off')\n",
    "    ax1.set_title(cat_to_name[label])\n",
    "    ax1.imshow(image.transpose((1,2,0)))\n",
    "    \n",
    "    labels = []\n",
    "    for cl in classes:\n",
    "        labels.append(cat_to_name[cl])\n",
    "        \n",
    "    y_pos = np.arange(5)\n",
    "    ax2.set_yticks(y_pos)\n",
    "    ax2.set_yticklabels(labels)\n",
    "    ax2.set_xlabel('Probability')\n",
    "    ax2.invert_yaxis()\n",
    "    ax2.barh(y_pos, probs, xerr=0, align='center', color='blue')\n",
    "    \n",
    "    \n",
    "    plt.show()\n",
    "    \n",
    "image_path = data_dir+'/test/52/image_04221.jpg'  # Make sure this is an actual image path in your directory.\n",
    "display_prediction(image_path, model)"
   ]
  },
  {
   "cell_type": "code",
   "execution_count": 39,
   "metadata": {},
   "outputs": [],
   "source": []
  },
  {
   "cell_type": "markdown",
   "metadata": {},
   "source": [
    "## Reminder for Workspace users\n",
    "If your network becomes very large when saved as a checkpoint, there might be issues with saving backups in your workspace. You should reduce the size of your hidden layers and train again. \n",
    "    \n",
    "We strongly encourage you to delete these large interim files and directories before navigating to another page or closing the browser tab."
   ]
  },
  {
   "cell_type": "code",
   "execution_count": null,
   "metadata": {},
   "outputs": [],
   "source": [
    "# TODO remove .pth files or move it to a temporary `~/opt` directory in this Workspace"
   ]
  },
  {
   "cell_type": "code",
   "execution_count": null,
   "metadata": {},
   "outputs": [],
   "source": []
  }
 ],
 "metadata": {
  "kernelspec": {
   "display_name": "Python 3 (ipykernel)",
   "language": "python",
   "name": "python3"
  },
  "language_info": {
   "codemirror_mode": {
    "name": "ipython",
    "version": 3
   },
   "file_extension": ".py",
   "mimetype": "text/x-python",
   "name": "python",
   "nbconvert_exporter": "python",
   "pygments_lexer": "ipython3",
   "version": "3.10.11"
  }
 },
 "nbformat": 4,
 "nbformat_minor": 2
}
